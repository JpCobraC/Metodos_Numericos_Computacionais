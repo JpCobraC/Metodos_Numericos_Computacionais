{
 "cells": [
  {
   "cell_type": "markdown",
   "id": "09961baf",
   "metadata": {},
   "source": [
    "### Questão 1\n",
    "\n",
    "A fórmula de Newton para interpolação polinomial utiliza diferenças divididas. Para um polinômio de grau 3:\n",
    "\n",
    "$$\n",
    "P_3(x) = f[x_0] + f[x_0, x_1](x - x_0) + f[x_0, x_1, x_2](x - x_0)(x - x_1) + f[x_0, x_1, x_2, x_3](x - x_0)(x - x_1)(x - x_2)\n",
    "$$\n",
    "\n",
    "A integral de uma função $f(x)$ pode ser aproximada por:\n",
    "\n",
    "$$\n",
    "\\int_a^b f(x)dx \\approx \\int_a^b P_3(x) dx\n",
    "$$\n",
    "\n",
    "Usando as diferenças divididas definidas como:\n",
    "\n",
    "$$\n",
    "f[x_i, x_{i+1}] = \\frac{f[x_{i+1}] - f[x_i]}{x_{i+1} - x_i}\n",
    "$$\n",
    "\n",
    "E assim por diante.\n"
   ]
  },
  {
   "cell_type": "markdown",
   "id": "9ada9317",
   "metadata": {},
   "source": [
    "### Questão 2\n"
   ]
  },
  {
   "cell_type": "code",
   "execution_count": 90,
   "id": "a973e560",
   "metadata": {},
   "outputs": [
    {
     "name": "stdout",
     "output_type": "stream",
     "text": [
      "Valor Aproximado da Integral (n=3000): 0.6161423937660417\n",
      "Valor de Referência (n=300000): 0.6161423965218731\n",
      "Erro Absoluto (vs. referência): 2.7558313409059565e-09\n",
      "Erro Relativo (vs. referência): 0.000000%\n",
      "\n"
     ]
    }
   ],
   "source": [
    "import numpy as np\n",
    "\n",
    "def integral_newton_ordem3(func, a, b, n=3):\n",
    "    if n % 3 != 0:\n",
    "        raise ValueError(\"O número de subintervalos deve ser múltiplo de 3.\")\n",
    "\n",
    "    h = (b - a) / n\n",
    "    x_points = np.linspace(a, b, n + 1)\n",
    "    y_points = func(x_points)\n",
    "    \n",
    "    soma = y_points[0] + y_points[-1]\n",
    "    soma += 3 * np.sum(y_points[1:-1:3])\n",
    "    soma += 3 * np.sum(y_points[2:-1:3])\n",
    "    soma += 2 * np.sum(y_points[3:-1:3])\n",
    "    \n",
    "    integral = (3 * h / 8) * soma\n",
    "    return integral\n",
    "\n",
    "def f_q2(x):\n",
    "    return np.sin(100 * x) / x\n",
    "\n",
    "a_q2, b_q2 = 0.01, 1.0\n",
    "num_subintervalos = 3000\n",
    "\n",
    "valor_aproximado = integral_newton_ordem3(f_q2, a_q2, b_q2, n=num_subintervalos)\n",
    "print(f\"Valor Aproximado da Integral (n={num_subintervalos}): {valor_aproximado}\")\n",
    "\n",
    "n_referencia = 300000\n",
    "valor_referencia = integral_newton_ordem3(f_q2, a_q2, b_q2, n=n_referencia)\n",
    "print(f\"Valor de Referência (n={n_referencia}): {valor_referencia}\")\n",
    "\n",
    "erro_absoluto = abs(valor_referencia - valor_aproximado)\n",
    "erro_relativo = (erro_absoluto / abs(valor_referencia)) * 100\n",
    "print(f\"Erro Absoluto (vs. referência): {erro_absoluto}\")\n",
    "print(f\"Erro Relativo (vs. referência): {erro_relativo:.6f}%\\n\")"
   ]
  },
  {
   "cell_type": "markdown",
   "id": "2baf23e8",
   "metadata": {},
   "source": [
    "### Questão 3"
   ]
  },
  {
   "cell_type": "code",
   "execution_count": 91,
   "id": "b4c65f33",
   "metadata": {},
   "outputs": [
    {
     "name": "stdout",
     "output_type": "stream",
     "text": [
      "Valor de Referência (com n = 714)\n",
      "Resultado: 12.48289317\n",
      "\n",
      "Valor com Erro Visível (com n = 100)\n",
      "Resultado: 12.48389304\n",
      "\n",
      "Análise do Erro:\n",
      "Valor de Referência arredondado: 12.483\n",
      "Valor com Erro arredondado:    12.484\n"
     ]
    }
   ],
   "source": [
    "import numpy as np\n",
    "\n",
    "def trapezio(f, a, b, n=100):\n",
    "    import numpy as np\n",
    "\n",
    "    h = (b - a) / n\n",
    "    x = np.linspace(a, b, n+1)\n",
    "    y = f(x)\n",
    "    return (h/2) * (y[0] + 2 * np.sum(y[1:-1]) + y[-1])\n",
    "\n",
    "def demonstrar_erro():\n",
    "    def f(x):\n",
    "        return np.exp(x) * np.sin(10 * x) + 8\n",
    "\n",
    "    a, b = 0.4, 2.0\n",
    "\n",
    "    n_precisao = 714\n",
    "    valor_referencia = trapezio(f, a, b, n_precisao)\n",
    "\n",
    "    print(f\"Valor de Referência (com n = {n_precisao})\")\n",
    "    print(f\"Resultado: {valor_referencia:.8f}\")\n",
    "\n",
    "    valor_com_erro = trapezio(f, a, b)\n",
    "\n",
    "    print(f\"\\nValor com Erro Visível (com n = 100)\")\n",
    "    print(f\"Resultado: {valor_com_erro:.8f}\")\n",
    "\n",
    "    print(\"\\nAnálise do Erro:\")\n",
    "    print(f\"Valor de Referência arredondado: {valor_referencia:.3f}\")\n",
    "    print(f\"Valor com Erro arredondado:    {valor_com_erro:.3f}\")\n",
    "    \n",
    "demonstrar_erro()"
   ]
  },
  {
   "cell_type": "markdown",
   "id": "25af1be7",
   "metadata": {},
   "source": [
    "### Questão 4"
   ]
  },
  {
   "cell_type": "code",
   "execution_count": 92,
   "id": "a6c72157",
   "metadata": {},
   "outputs": [
    {
     "name": "stdout",
     "output_type": "stream",
     "text": [
      "Melhor grau População Urbana: 5\n",
      "Previsão População Urbana 2025: 170.1 milhões\n",
      "Melhor grau População Rural: 5\n",
      "Previsão População Rural 2025: 32.4 milhões\n"
     ]
    }
   ],
   "source": [
    "import numpy as np\n",
    "\n",
    "ano = np.array([1940, 1950, 1960, 1970, 1980, 1991, 2000, 2010, 2022])\n",
    "pop_urbana = np.array([10.9, 19.4, 32.0, 56.0, 80.1, 110.7, 137.9, 160.9, 172.3])\n",
    "pop_rural = np.array([30.3, 32.5, 38.0, 37.1, 38.9, 36.1, 31.7, 29.9, 30.8])\n",
    "\n",
    "x = ano - 1940\n",
    "x_2025 = 2025 - 1940\n",
    "\n",
    "def avaliar_polinomio(coef, x):\n",
    "    resultado = 0\n",
    "    grau = len(coef) - 1\n",
    "    for i in range(len(coef)):\n",
    "        resultado += coef[i] * x**(grau - i)\n",
    "    return resultado\n",
    "\n",
    "def melhor_grau(x, y, grau_max):\n",
    "    melhor_rmse = float('inf')\n",
    "    melhor_grau = 1\n",
    "    melhor_coef = None\n",
    "    for grau in range(1, grau_max + 1):\n",
    "        coef = np.polyfit(x, y, grau)\n",
    "        y_pred = np.array([avaliar_polinomio(coef, xi) for xi in x])\n",
    "        rmse = np.sqrt(np.mean((y - y_pred)**2))\n",
    "        if rmse < melhor_rmse:\n",
    "            melhor_rmse = rmse\n",
    "            melhor_grau = grau\n",
    "            melhor_coef = coef\n",
    "    return melhor_grau, melhor_coef\n",
    "\n",
    "grau_urb, coef_urb = melhor_grau(x, pop_urbana, 5)\n",
    "pop_urb_2025 = avaliar_polinomio(coef_urb, x_2025)\n",
    "\n",
    "grau_rur, coef_rur = melhor_grau(x, pop_rural, 5)\n",
    "pop_rur_2025 = avaliar_polinomio(coef_rur, x_2025)\n",
    "\n",
    "print(f\"Melhor grau População Urbana: {grau_urb}\")\n",
    "print(f\"Previsão População Urbana 2025: {pop_urb_2025:.1f} milhões\")\n",
    "\n",
    "print(f\"Melhor grau População Rural: {grau_rur}\")\n",
    "print(f\"Previsão População Rural 2025: {pop_rur_2025:.1f} milhões\")\n"
   ]
  },
  {
   "cell_type": "markdown",
   "id": "12bb3bb9",
   "metadata": {},
   "source": [
    "### Questão 5"
   ]
  },
  {
   "cell_type": "code",
   "execution_count": 93,
   "id": "019b2b02",
   "metadata": {},
   "outputs": [
    {
     "name": "stdout",
     "output_type": "stream",
     "text": [
      "Solução da função refatorada:\n",
      "[ 0.66666667  1.         -0.33333333  0.33333333  0.66666667 -0.33333333]\n",
      "\n",
      "Solução do numpy:\n",
      "[ 0.66666667  1.         -0.33333333  0.33333333  0.66666667 -0.33333333]\n",
      "\n",
      "As soluções são iguais\n"
     ]
    }
   ],
   "source": [
    "import numpy as np\n",
    "\n",
    "def gauss_pivot_parcial(A_original, b_original):\n",
    "    A = np.array(A_original, dtype=float)\n",
    "    b = np.array(b_original, dtype=float)\n",
    "    n = len(b)\n",
    "\n",
    "    for k in range(n - 1):\n",
    "        pivo_linha = k\n",
    "        max_val = abs(A[k, k])\n",
    "        for i in range(k + 1, n):\n",
    "            if abs(A[i, k]) > max_val:\n",
    "                max_val = abs(A[i, k])\n",
    "                pivo_linha = i\n",
    "\n",
    "        if pivo_linha != k:\n",
    "            A[[k, pivo_linha]] = A[[pivo_linha, k]]\n",
    "            b[[k, pivo_linha]] = b[[pivo_linha, k]]\n",
    "\n",
    "        if A[k, k] == 0:\n",
    "            print(f\"Matriz singular detectada na coluna {k}. Não é possível resolver.\")\n",
    "            return None\n",
    "\n",
    "        for i in range(k + 1, n):\n",
    "            m = A[i, k] / A[k, k]\n",
    "            A[i, k:] = A[i, k:] - m * A[k, k:]\n",
    "            b[i] = b[i] - m * b[k]\n",
    "\n",
    "    x = np.zeros(n)\n",
    "    for i in range(n - 1, -1, -1):\n",
    "        if A[i, i] == 0:\n",
    "            print(f\"Zero na diagonal principal. Sistema impossível ou indeterminado.\")\n",
    "            return None\n",
    "        soma_ax = np.dot(A[i, i + 1:], x[i + 1:])\n",
    "        x[i] = (b[i] - soma_ax) / A[i, i]\n",
    "        \n",
    "    return x\n",
    "\n",
    "A = np.array([\n",
    "    [1,  0,  0, -2,  0,  0],\n",
    "    [1,  0,  0,  0, -1,  0],\n",
    "    [4,  4,  2, -4, -4,  3],\n",
    "    [0,  2,  0,  0,  0,  0],\n",
    "    [0,  1,  0, -1, -1,  0],\n",
    "    [0,  0,  1,  0,  0, -1]\n",
    "], dtype=float)\n",
    "\n",
    "b = np.array([0, 0, 1, 2, 0, 0], dtype=float)\n",
    "\n",
    "solucao_refatorada = gauss_pivot_parcial(A, b)\n",
    "solucao_numpy = np.linalg.solve(A, b)\n",
    "\n",
    "print(\"Solução da função refatorada:\")\n",
    "print(solucao_refatorada)\n",
    "print(\"\\nSolução do numpy:\")\n",
    "print(solucao_numpy)\n",
    "print(\"\\nAs soluções são iguais\")"
   ]
  },
  {
   "cell_type": "markdown",
   "id": "8d8643f4",
   "metadata": {},
   "source": [
    "### Questão 6"
   ]
  },
  {
   "cell_type": "code",
   "execution_count": 94,
   "id": "edcb5ec4",
   "metadata": {},
   "outputs": [
    {
     "name": "stdout",
     "output_type": "stream",
     "text": [
      "[ 0.66666667  1.         -0.33333333  0.33333333  0.66666667 -0.33333333]\n"
     ]
    }
   ],
   "source": [
    "import numpy as np\n",
    "\n",
    "def decomp_lu_pivot(A, b):\n",
    "    n = A.shape[0]\n",
    "    L = np.identity(n, dtype=float)\n",
    "    U = A.astype(float).copy()\n",
    "    p = np.arange(n)\n",
    "\n",
    "    for k in range(n - 1):\n",
    "        pivot_row_index = np.argmax(np.abs(U[k:, k])) + k\n",
    "        \n",
    "        if pivot_row_index != k:\n",
    "            U[[k, pivot_row_index]] = U[[pivot_row_index, k]]\n",
    "            p[[k, pivot_row_index]] = p[[pivot_row_index, k]]\n",
    "            if k > 0:\n",
    "                L[[k, pivot_row_index], :k] = L[[pivot_row_index, k], :k]\n",
    "        \n",
    "        for i in range(k + 1, n):\n",
    "            L[i, k] = U[i, k] / U[k, k]\n",
    "            U[i, k:] -= L[i, k] * U[k, k:]\n",
    "            U[i, k] = 0\n",
    "    \n",
    "    b_permuted = b[p]\n",
    "\n",
    "    y = np.zeros(n)\n",
    "    for i in range(n):\n",
    "        y[i] = b_permuted[i] - np.dot(L[i, :i], y[:i])\n",
    "\n",
    "    x = np.zeros(n)\n",
    "    for i in range(n - 1, -1, -1):\n",
    "        x[i] = (y[i] - np.dot(U[i, i + 1:], x[i + 1:])) / U[i, i]\n",
    "        \n",
    "    return x\n",
    "\n",
    "A = np.array([\n",
    "    [1,  0,  0, -2,  0,  0],\n",
    "    [1, 0,  0,  0, -1,  0],\n",
    "    [4,  4,  2, -4, -4,  3],\n",
    "    [0,  2,  0, 0,  0,  0],\n",
    "    [0,  1,  0, -1, -1,  0],\n",
    "    [0,  0,  1,  0,  0, -1]\n",
    "], dtype=float)\n",
    "\n",
    "b = np.array([0, 0, 1, 2, 0, 0], dtype=float)\n",
    "\n",
    "solucao_final = decomp_lu_pivot(A, b)\n",
    "\n",
    "print(solucao_final)"
   ]
  }
 ],
 "metadata": {
  "kernelspec": {
   "display_name": ".venv",
   "language": "python",
   "name": "python3"
  },
  "language_info": {
   "codemirror_mode": {
    "name": "ipython",
    "version": 3
   },
   "file_extension": ".py",
   "mimetype": "text/x-python",
   "name": "python",
   "nbconvert_exporter": "python",
   "pygments_lexer": "ipython3",
   "version": "3.12.3"
  }
 },
 "nbformat": 4,
 "nbformat_minor": 5
}
