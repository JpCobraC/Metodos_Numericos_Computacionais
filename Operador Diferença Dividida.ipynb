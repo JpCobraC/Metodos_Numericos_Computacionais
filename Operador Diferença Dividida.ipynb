{
 "cells": [
  {
   "cell_type": "markdown",
   "metadata": {
    "id": "LjLEC_bR9Sc0"
   },
   "source": [
    "# Polinômio interpolador de Newton\n",
    "\n",
    "1. Operador Diferenças Divididas\n",
    "\n",
    "  Seja a função $y=f(x)$ que passa pelos pontos base $(x_i,y_i) \\ \\ i = 0,1,2,...,n \\ \\ D^i$ é o operador diferença dividida de ordem $i$\n",
    "\n",
    "|$i$||$x$||$y$|\n",
    "|---||---||---|\n",
    "|$0$||$0,2$||$5,0$|\n",
    "|$1$||$0,7$||$-9,0$|\n",
    "|$2$||$1,7$||$-2,0$|\n",
    "\n",
    "$D^0x_0=5=y_0$\n",
    "\n",
    "* Ordem $0: \\ \\ \\\n",
    "D^0y_i=f[x_i]=y_i$\n",
    "\n",
    "* Ordem $1: \\ \\ \\\n",
    "D^1y_i=f[x_i, x_{i+1}]=\\frac{D^0y_{i+1} - D^0y_i}{x_{i+1}-x_i} = \\frac{y_{i+1} - y_i}{x_{i+1} - x_i}$\n",
    "\n",
    "* Ordem $2: \\ \\ \\\n",
    "D^2y_i=f[x_i, x_{i+1}, x_{i+2}]=\\frac{D^1y_{i+1} - D^1y_i}{x_{i+2}-x_i}$\n",
    "\n",
    "* Ordem $3: \\ \\ \\\n",
    "D^3y_i=f[x_i, x_{i+1}, x_{i+2}, x_{i + 3}]=\\frac{D^2y_{i+1} - D^2y_i}{x_{i+3}-x_i}$\n",
    "\n",
    "* Ordem $k: \\ \\ \\\n",
    "D^ky_i = f[x_i, x_{i+1} + ... + x_{i+k}] = \\frac{D^{k-1}y_{i+1}-D^{k-1}y_i}{x_{i+k}-x_i}$"
   ]
  },
  {
   "cell_type": "markdown",
   "metadata": {
    "id": "vnlXx88TDJY6"
   },
   "source": [
    "# Exercício\n",
    "\n",
    "|$i$||$x_i$​||$y_i$​|\n",
    "|---||---||---|\n",
    "|$0$||$0,0$||$3,000$|\n",
    "|$1$||$0,2$||$2,760$|\n",
    "|$2$||$0,3$||$2,655$|\n",
    "|$3$||$0,5$||$2,625$|\n",
    "|$4$||$0,7$||$3,035$|\n",
    "|$5$||$1,0$||$5,000$|"
   ]
  },
  {
   "cell_type": "code",
   "execution_count": 1,
   "metadata": {
    "colab": {
     "base_uri": "https://localhost:8080/"
    },
    "executionInfo": {
     "elapsed": 15,
     "status": "ok",
     "timestamp": 1750101192381,
     "user": {
      "displayName": "Júlio Neto",
      "userId": "00506976445566525035"
     },
     "user_tz": 180
    },
    "id": "W45hvMG-9QeT",
    "outputId": "8c06f0c9-4cf8-4ff7-87a1-699542099ee0"
   },
   "outputs": [
    {
     "name": "stdout",
     "output_type": "stream",
     "text": [
      "i     | x_i        | y_i          | D^1 y_i      | D^2 y_i      | D^3 y_i      | D^4 y_i      | D^5 y_i     \n",
      "------------------------------------------------------------------------------------------------------------\n",
      "0     | 0.0000     | 3.0000       | -1.2000      | 0.5000       | 5.0000       | -0.0000      | 0.0000      \n",
      "1     | 0.2000     | 2.7600       | -1.0500      | 3.0000       | 5.0000       | -0.0000      |             \n",
      "2     | 0.3000     | 2.6550       | -0.1500      | 5.5000       | 5.0000       |              |             \n",
      "3     | 0.5000     | 2.6250       | 2.0500       | 9.0000       |              |              |             \n",
      "4     | 0.7000     | 3.0350       | 6.5500       |              |              |              |             \n",
      "5     | 1.0000     | 5.0000       |              |              |              |              |             \n",
      "\n"
     ]
    }
   ],
   "source": [
    "import numpy as np\n",
    "\n",
    "def GerarTabelaDiferencas(x_i, y_i):\n",
    "    n = len(x_i)\n",
    "\n",
    "    tabela_diferencas = np.full((n, n), np.nan)\n",
    "    tabela_diferencas[:, 0] = y_i\n",
    "\n",
    "    for j in range(1, n):\n",
    "        for i in range(n - j):\n",
    "            numerador = tabela_diferencas[i+1, j-1] - tabela_diferencas[i, j-1]\n",
    "            denominador = x_i[i+j] - x_i[i]\n",
    "            tabela_diferencas[i, j] = numerador / denominador\n",
    "\n",
    "    largura_i = 5\n",
    "    largura_x = 10\n",
    "    largura_dados = 12\n",
    "\n",
    "    partes_header = [f\"{'i':<{largura_i}}\", f\"{'x_i':<{largura_x}}\"]\n",
    "    partes_header.append(f\"{'y_i':<{largura_dados}}\")\n",
    "    for k in range(1, n):\n",
    "        partes_header.append(f\"{f'D^{k} y_i':<{largura_dados}}\")\n",
    "\n",
    "    header_str = \" | \".join(partes_header)\n",
    "\n",
    "    separador_str = \"-\" * len(header_str)\n",
    "\n",
    "    tabela_final_str = f\"{header_str}\\n{separador_str}\\n\"\n",
    "\n",
    "    for i in range(n):\n",
    "        partes_linha = [\n",
    "            f\"{i:<{largura_i}}\",\n",
    "            f\"{x_i[i]:<{largura_x}.4f}\"\n",
    "        ]\n",
    "        for j in range(n):\n",
    "            valor = tabela_diferencas[i, j]\n",
    "            if np.isnan(valor):\n",
    "                partes_linha.append(f\"{'':<{largura_dados}}\")\n",
    "            else:\n",
    "                partes_linha.append(f\"{valor:<{largura_dados}.4f}\")\n",
    "\n",
    "        tabela_final_str += \" | \".join(partes_linha) + \"\\n\"\n",
    "\n",
    "    return tabela_final_str\n",
    "\n",
    "x_exemplo = np.array([0.0, 0.2, 0.3, 0.5, 0.7, 1.0])\n",
    "y_exemplo = np.array([3.000, 2.760, 2.655, 2.625, 3.035, 5.000])\n",
    "\n",
    "tabela_pronta = GerarTabelaDiferencas(x_exemplo, y_exemplo)\n",
    "\n",
    "print(tabela_pronta)"
   ]
  },
  {
   "cell_type": "markdown",
   "metadata": {
    "id": "TdItJy6wLMt7"
   },
   "source": [
    "Os pontos $(x_i,y_i)$ do exercício foram gerados pelo polinômio: $y=5x^3-2x^2-x+3$"
   ]
  }
 ],
 "metadata": {
  "colab": {
   "authorship_tag": "ABX9TyM3/8hPfIrIwVLBGwS5bGsO",
   "provenance": []
  },
  "kernelspec": {
   "display_name": ".venv",
   "language": "python",
   "name": "python3"
  },
  "language_info": {
   "codemirror_mode": {
    "name": "ipython",
    "version": 3
   },
   "file_extension": ".py",
   "mimetype": "text/x-python",
   "name": "python",
   "nbconvert_exporter": "python",
   "pygments_lexer": "ipython3",
   "version": "3.12.3"
  }
 },
 "nbformat": 4,
 "nbformat_minor": 0
}
